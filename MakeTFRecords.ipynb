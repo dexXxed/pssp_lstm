{
 "cells": [
  {
   "cell_type": "markdown",
   "metadata": {},
   "source": [
    "# Конвертирование Numpy Array в TF Records\n",
    "Сохраните набор данных белка CullPDB в виде записей TF, чтобы упростить их импорт в модели.\n",
    "Этот notepad представляет собой пошаговое руководство по файлу *make_tfrecords.py*."
   ]
  },
  {
   "cell_type": "code",
   "execution_count": 1,
   "metadata": {},
   "outputs": [],
   "source": [
    "import numpy as np\n",
    "import tensorflow as tf\n",
    "\n",
    "# определить tf.train.Features \n",
    "def _int64_feature(value):\n",
    "    return tf.train.Feature(int64_list=tf.train.Int64List(value=[value]))\n",
    "\n",
    "def _floats_feature(value):\n",
    "    return tf.train.Feature(float_list=tf.train.FloatList(value=value))"
   ]
  },
  {
   "cell_type": "code",
   "execution_count": 2,
   "metadata": {},
   "outputs": [
    {
     "data": {
      "text/plain": [
       "array([0.        , 0.        , 0.        , 1.        , 0.        ,\n",
       "       0.        , 0.        , 0.        , 0.        , 0.        ,\n",
       "       0.        , 0.        , 0.        , 0.        , 0.        ,\n",
       "       0.        , 0.        , 0.        , 0.        , 0.        ,\n",
       "       0.        , 0.        , 1.        , 0.        , 0.        ,\n",
       "       0.        , 0.        , 0.        , 0.        , 0.        ,\n",
       "       0.        , 0.        , 0.        , 1.        , 1.        ,\n",
       "       0.05732417, 0.00669285, 0.9976241 , 0.96832377, 0.00682713,\n",
       "       0.14185107, 0.09885607, 0.00919371, 0.80059224, 0.00784502,\n",
       "       0.01763634, 0.55971366, 0.0541667 , 0.4378235 , 0.12786157,\n",
       "       0.16798161, 0.14931294, 0.01224884, 0.00532502, 0.26894143,\n",
       "       0.01551975, 0.        ])"
      ]
     },
     "execution_count": 2,
     "metadata": {},
     "output_type": "execute_result"
    }
   ],
   "source": [
    "# Загрузить данные; Я сохранил данные в своем каталоге HOME / data / cpdb\n",
    "from pathlib import Path\n",
    "HOME = str(Path.home())\n",
    "\n",
    "# Измените данные так, чтобы мы получили (num_samples x max_seq_length x num_features)\n",
    "data = np.load(HOME+\"/data/cpdb/cpdb+profile_6133_filtered.npy.gz\").reshape(-1, 700, 57)\n",
    "num_samples = data.shape[0]\n",
    "\n",
    "# Показать второй остаток первого образца\n",
    "data[0, 1, :]"
   ]
  },
  {
   "cell_type": "code",
   "execution_count": 3,
   "metadata": {},
   "outputs": [
    {
     "data": {
      "text/plain": [
       "array([0.        , 0.        , 0.        , 1.        , 0.        ,\n",
       "       0.        , 0.        , 0.        , 0.        , 0.        ,\n",
       "       0.        , 0.        , 0.        , 0.        , 0.        ,\n",
       "       0.        , 0.        , 0.        , 0.        , 0.        ,\n",
       "       0.        , 0.        , 0.05732417, 0.00669285, 0.9976241 ,\n",
       "       0.96832377, 0.00682713, 0.14185107, 0.09885607, 0.00919371,\n",
       "       0.80059224, 0.00784502, 0.01763634, 0.55971366, 0.0541667 ,\n",
       "       0.4378235 , 0.12786157, 0.16798161, 0.14931294, 0.01224884,\n",
       "       0.00532502, 0.26894143, 0.01551975])"
      ]
     },
     "execution_count": 3,
     "metadata": {},
     "output_type": "execute_result"
    }
   ],
   "source": [
    "# Нас интересуют только особенности матрицы аминокислот и профиля PSI-BLAST\n",
    "seqs = np.concatenate([data[:, :, 0:22].copy(), data[:, :, 35:56].copy()], axis=2).reshape(num_samples, -1)\n",
    "\n",
    "# Есть 43 функции на остаток\n",
    "num_features = 43\n",
    "\n",
    "seqs[0, 43:86]"
   ]
  },
  {
   "cell_type": "code",
   "execution_count": 4,
   "metadata": {},
   "outputs": [
    {
     "data": {
      "text/plain": [
       "array([1., 0., 0., 0., 0., 0., 0., 0., 0.])"
      ]
     },
     "execution_count": 4,
     "metadata": {},
     "output_type": "execute_result"
    }
   ],
   "source": [
    "# Измените метки, но не выровняйте, чтобы мы могли посчитать NoSeqs позже\n",
    "labels = data[:, :, 22:31].copy().reshape(num_samples, 700, -1)\n",
    "labels[0, 1, :]"
   ]
  },
  {
   "cell_type": "markdown",
   "metadata": {},
   "source": [
    "## Сохранить как запись TF\n",
    "Мы хотим сохранить каждый семпл как запись TF. Для экономии места и сокращения времени обучения используется\n",
    "заполнение из исходного набора данных (каждый белок был дополнен до 700 токенами NoSeq)."
   ]
  },
  {
   "cell_type": "code",
   "execution_count": null,
   "metadata": {
    "scrolled": true
   },
   "outputs": [],
   "source": [
    "# Подсчитайте количество токенов non-NoSeq, чтобы найти длину белка\n",
    "noseq = np.array([[0., 0., 0., 0., 0., 0., 0., 0., 1.]])\n",
    "\n",
    "# Найти все позиции в векторе, которые являются меткой «NoSeq»\n",
    "noseqs = np.all(np.equal(labels[0, :, :], noseq), axis=1)\n",
    "\n",
    "# Теперь отмените логические значения и посчитайте количество истин\n",
    "seq_length = np.logical_not(noseqs).sum()\n",
    "print(seq_length)\n",
    "\n",
    "noseqs"
   ]
  },
  {
   "cell_type": "code",
   "execution_count": null,
   "metadata": {},
   "outputs": [],
   "source": [
    "# Теперь, когда мы знаем длину, мы можем сгладить метки\n",
    "labels = labels.reshape(num_samples, -1)\n",
    "\n",
    "\n",
    "num_labels = 9\n",
    "\n",
    "# Преобразовать в tf.train.Example, который в конечном итоге будет записан в файл\n",
    "example = tf.train.Example(features=tf.train.Features(feature={\n",
    "    'seq_len': _int64_feature(seq_length),\n",
    "    'seq_data': _floats_feature(seqs[0, 0:num_features*seq_length]),\n",
    "    'label_data': _floats_feature(labels[0, 0:num_labels*seq_length])\n",
    "    }\n",
    "))\n",
    "example"
   ]
  }
 ],
 "metadata": {
  "kernelspec": {
   "display_name": "Python 3",
   "language": "python",
   "name": "python3"
  },
  "language_info": {
   "codemirror_mode": {
    "name": "ipython",
    "version": 3
   },
   "file_extension": ".py",
   "mimetype": "text/x-python",
   "name": "python",
   "nbconvert_exporter": "python",
   "pygments_lexer": "ipython3",
   "version": "3.6.4"
  },
  "pycharm": {
   "stem_cell": {
    "cell_type": "raw",
    "source": [],
    "metadata": {
     "collapsed": false
    }
   }
  }
 },
 "nbformat": 4,
 "nbformat_minor": 2
}